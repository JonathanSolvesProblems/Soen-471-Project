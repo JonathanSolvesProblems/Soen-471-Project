{
 "cells": [
  {
   "cell_type": "code",
   "execution_count": 13,
   "metadata": {},
   "outputs": [
    {
     "name": "stdout",
     "output_type": "stream",
     "text": [
      "61.02 %\n",
      "30.51 %\n",
      "8.47 %\n"
     ]
    }
   ],
   "source": [
    "import pandas as pd\n",
    "import numpy as np\n",
    "from sklearn.model_selection import train_test_split\n",
    "import matplotlib.pyplot as plt\n",
    "from sklearn.ensemble import RandomForestRegressor\n",
    "from sklearn.metrics import mean_squared_error, r2_score\n",
    "from sklearn.datasets import make_classification\n",
    "from sklearn import metrics\n",
    "\n",
    "\n",
    "df = pd.read_csv('parlers-data2/part-00000-4cd6e305-e7f2-4779-bc4b-8ef43772fdd0-c000 copy.csv')\n",
    "\n",
    "train, val = train_test_split(df, test_size=0.3)\n",
    "train, test = train_test_split(train, test_size=0.1)\n",
    "print('%.2f %%' % float(len(train)/len(df)*100))\n",
    "print('%.2f %%' % float(len(val)/len(df)*100))\n",
    "print('%.2f %%' % float(len(test)/len(df)*100))\n",
    "\n",
    "#Split the data into x and y\n",
    "train_x = train[['Comments', 'Followers', 'Following', 'Reposts', 'verified']]\n",
    "train_y = train['upvotes']\n",
    "val_x = train[['Comments', 'Followers', 'Following', 'Reposts', 'verified']]\n",
    "val_y = train['upvotes']\n",
    "test_x = train[['Comments', 'Followers', 'Following', 'Reposts', 'verified']]\n",
    "test_y = train['upvotes']"
   ]
  },
  {
   "cell_type": "code",
   "execution_count": 2,
   "metadata": {},
   "outputs": [
    {
     "data": {
      "text/html": [
       "<div>\n",
       "<style scoped>\n",
       "    .dataframe tbody tr th:only-of-type {\n",
       "        vertical-align: middle;\n",
       "    }\n",
       "\n",
       "    .dataframe tbody tr th {\n",
       "        vertical-align: top;\n",
       "    }\n",
       "\n",
       "    .dataframe thead th {\n",
       "        text-align: right;\n",
       "    }\n",
       "</style>\n",
       "<table border=\"1\" class=\"dataframe\">\n",
       "  <thead>\n",
       "    <tr style=\"text-align: right;\">\n",
       "      <th></th>\n",
       "      <th>Comments</th>\n",
       "      <th>Followers</th>\n",
       "      <th>Following</th>\n",
       "      <th>Reposts</th>\n",
       "      <th>verified</th>\n",
       "    </tr>\n",
       "  </thead>\n",
       "  <tbody>\n",
       "    <tr>\n",
       "      <th>48</th>\n",
       "      <td>29</td>\n",
       "      <td>20000</td>\n",
       "      <td>25000</td>\n",
       "      <td>129</td>\n",
       "      <td>False</td>\n",
       "    </tr>\n",
       "    <tr>\n",
       "      <th>56</th>\n",
       "      <td>23</td>\n",
       "      <td>15000</td>\n",
       "      <td>74</td>\n",
       "      <td>26</td>\n",
       "      <td>False</td>\n",
       "    </tr>\n",
       "    <tr>\n",
       "      <th>0</th>\n",
       "      <td>2</td>\n",
       "      <td>12000</td>\n",
       "      <td>2900</td>\n",
       "      <td>16</td>\n",
       "      <td>False</td>\n",
       "    </tr>\n",
       "    <tr>\n",
       "      <th>29</th>\n",
       "      <td>29</td>\n",
       "      <td>20000</td>\n",
       "      <td>25000</td>\n",
       "      <td>129</td>\n",
       "      <td>False</td>\n",
       "    </tr>\n",
       "    <tr>\n",
       "      <th>46</th>\n",
       "      <td>29</td>\n",
       "      <td>20000</td>\n",
       "      <td>25000</td>\n",
       "      <td>129</td>\n",
       "      <td>False</td>\n",
       "    </tr>\n",
       "  </tbody>\n",
       "</table>\n",
       "</div>"
      ],
      "text/plain": [
       "    Comments  Followers  Following  Reposts  verified\n",
       "48        29      20000      25000      129     False\n",
       "56        23      15000         74       26     False\n",
       "0          2      12000       2900       16     False\n",
       "29        29      20000      25000      129     False\n",
       "46        29      20000      25000      129     False"
      ]
     },
     "execution_count": 2,
     "metadata": {},
     "output_type": "execute_result"
    }
   ],
   "source": [
    "train_x.head()"
   ]
  },
  {
   "cell_type": "code",
   "execution_count": 12,
   "metadata": {},
   "outputs": [],
   "source": [
    "#Parameters to consider: n_estimators, criterion, max_depth, min_samples_split\n",
    "def random_forest_model(train_x, train_y, val_x, val_y):\n",
    "    rf = RandomForestRegressor()\n",
    "    rf.fit(train_x, train_y)\n",
    "    val_y_pred = rf.predict(val_x)\n",
    "    val_y_pred = pd.DataFrame(val_y_pred, columns=['val_predicted_upvotes'])\n",
    "    val_comparison = val_y_pred.join(val_y)\n",
    "    return rf, val_y_pred, val_comparison"
   ]
  },
  {
   "cell_type": "code",
   "execution_count": 16,
   "metadata": {},
   "outputs": [],
   "source": [
    "def random_forest_test(model, test_x, test_y):\n",
    "    # Make predictions using the test set\n",
    "    test_y_pred = model.predict(test_x)\n",
    "    test_y_pred = pd.DataFrame(test_y_pred, columns=['test_predicted_upvotes'])\n",
    "    test_comparison = test_y_pred.join(test_y)\n",
    "    \n",
    "    return test_y_pred, test_comparison"
   ]
  },
  {
   "cell_type": "code",
   "execution_count": 31,
   "metadata": {},
   "outputs": [],
   "source": [
    "def random_forest_metrics(y_test, y_pred, comparison):\n",
    "    groundtruth = comparison.to_numpy()\n",
    "    acc = [i for i in groundtruth if i[0] == i[1]]\n",
    "    acc = len(acc)\n",
    "\n",
    "    print('Accuracy: %.2f %%' % float(acc/len(y_test)*100))\n",
    "    \n",
    "    print('Mean Absolute Error:', metrics.mean_absolute_error(y_test, y_pred))\n",
    "    print('Mean Squared Error:', metrics.mean_squared_error(y_test, y_pred))\n",
    "    print('Root Mean Squared Error:', np.sqrt(metrics.mean_squared_error(y_test, y_pred)))\n"
   ]
  },
  {
   "cell_type": "code",
   "execution_count": 33,
   "metadata": {},
   "outputs": [
    {
     "data": {
      "text/html": [
       "<div>\n",
       "<style scoped>\n",
       "    .dataframe tbody tr th:only-of-type {\n",
       "        vertical-align: middle;\n",
       "    }\n",
       "\n",
       "    .dataframe tbody tr th {\n",
       "        vertical-align: top;\n",
       "    }\n",
       "\n",
       "    .dataframe thead th {\n",
       "        text-align: right;\n",
       "    }\n",
       "</style>\n",
       "<table border=\"1\" class=\"dataframe\">\n",
       "  <thead>\n",
       "    <tr style=\"text-align: right;\">\n",
       "      <th></th>\n",
       "      <th>val_predicted_upvotes</th>\n",
       "      <th>upvotes</th>\n",
       "    </tr>\n",
       "  </thead>\n",
       "  <tbody>\n",
       "    <tr>\n",
       "      <th>0</th>\n",
       "      <td>120.0</td>\n",
       "      <td>NaN</td>\n",
       "    </tr>\n",
       "    <tr>\n",
       "      <th>1</th>\n",
       "      <td>120.0</td>\n",
       "      <td>NaN</td>\n",
       "    </tr>\n",
       "    <tr>\n",
       "      <th>2</th>\n",
       "      <td>120.0</td>\n",
       "      <td>69.0</td>\n",
       "    </tr>\n",
       "    <tr>\n",
       "      <th>3</th>\n",
       "      <td>120.0</td>\n",
       "      <td>NaN</td>\n",
       "    </tr>\n",
       "    <tr>\n",
       "      <th>4</th>\n",
       "      <td>120.0</td>\n",
       "      <td>NaN</td>\n",
       "    </tr>\n",
       "  </tbody>\n",
       "</table>\n",
       "</div>"
      ],
      "text/plain": [
       "   val_predicted_upvotes  upvotes\n",
       "0                  120.0      NaN\n",
       "1                  120.0      NaN\n",
       "2                  120.0     69.0\n",
       "3                  120.0      NaN\n",
       "4                  120.0      NaN"
      ]
     },
     "execution_count": 33,
     "metadata": {},
     "output_type": "execute_result"
    }
   ],
   "source": [
    "val_comparison.head()"
   ]
  },
  {
   "cell_type": "code",
   "execution_count": 32,
   "metadata": {},
   "outputs": [
    {
     "name": "stdout",
     "output_type": "stream",
     "text": [
      "VALIDATION METRICS\n",
      "Accuracy: 47.22 %\n",
      "Mean Absolute Error: 1.0486111111111112\n",
      "Mean Squared Error: 8.595569444444443\n",
      "Root Mean Squared Error: 2.931820158953213\n",
      "\n",
      "TEST METRICS\n",
      "Accuracy: 47.22 %\n",
      "Mean Absolute Error: 1.0486111111111112\n",
      "Mean Squared Error: 8.595569444444443\n",
      "Root Mean Squared Error: 2.931820158953213\n"
     ]
    }
   ],
   "source": [
    "model, val_y_pred, val_comparison = random_forest_model(train_x, train_y, val_x, val_y)\n",
    "print('VALIDATION METRICS')\n",
    "random_forest_metrics(val_y, val_y_pred, val_comparison)\n",
    "print()\n",
    "test_y_pred, test_comparison = random_forest_test(model, test_x, test_y)\n",
    "print('TEST METRICS')\n",
    "random_forest_metrics(test_y, test_y_pred, test_comparison)"
   ]
  },
  {
   "cell_type": "code",
   "execution_count": null,
   "metadata": {},
   "outputs": [],
   "source": []
  }
 ],
 "metadata": {
  "kernelspec": {
   "display_name": "Python 3",
   "language": "python",
   "name": "python3"
  },
  "language_info": {
   "codemirror_mode": {
    "name": "ipython",
    "version": 3
   },
   "file_extension": ".py",
   "mimetype": "text/x-python",
   "name": "python",
   "nbconvert_exporter": "python",
   "pygments_lexer": "ipython3",
   "version": "3.8.5"
  }
 },
 "nbformat": 4,
 "nbformat_minor": 4
}
